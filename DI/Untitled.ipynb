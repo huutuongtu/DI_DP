{
 "cells": [
  {
   "cell_type": "code",
   "execution_count": 6,
   "id": "95487498-26f1-4113-a5d6-0458efe264e8",
   "metadata": {
    "tags": []
   },
   "outputs": [
    {
     "name": "stderr",
     "output_type": "stream",
     "text": [
      "100%|██████████| 10/10 [00:19<00:00,  1.95s/it]"
     ]
    },
    {
     "name": "stdout",
     "output_type": "stream",
     "text": [
      "Failed to retrieve data. HTTP Status code: 200\n"
     ]
    },
    {
     "name": "stderr",
     "output_type": "stream",
     "text": [
      "\n"
     ]
    }
   ],
   "source": [
    "import requests\n",
    "from bs4 import BeautifulSoup\n",
    "from tqdm import tqdm\n",
    "# Define the URL of the API endpoint\n",
    "def page(num):\n",
    "    return f'https://www.wonderbk.com/shop/books?page={num}'\n",
    "# url = 'https://www.wonderbk.com/shop/books?page=2'\n",
    "f = open(\"link.txt\", \"a\", encoding=\"utf8\")\n",
    "for i in tqdm(range(2000)):\n",
    "    url = page(str(i))\n",
    "    response = requests.get(url)\n",
    "\n",
    "    # Check if the request was successful\n",
    "    if response.status_code == 200:\n",
    "        # Parse the JSON response\n",
    "        html_content = response.text\n",
    "        soup = BeautifulSoup(html_content, 'html.parser')\n",
    "        entry_links = soup.find_all(class_='entry-link')\n",
    "        for link in entry_links:\n",
    "            href = link.get('href')\n",
    "            if href:\n",
    "                f.write(href + \"\\n\")\n",
    "else:\n",
    "    print(f\"Failed to retrieve data. HTTP Status code: {response.status_code}\")\n"
   ]
  }
 ],
 "metadata": {
  "kernelspec": {
   "display_name": "Python 3 (ipykernel)",
   "language": "python",
   "name": "python3"
  },
  "language_info": {
   "codemirror_mode": {
    "name": "ipython",
    "version": 3
   },
   "file_extension": ".py",
   "mimetype": "text/x-python",
   "name": "python",
   "nbconvert_exporter": "python",
   "pygments_lexer": "ipython3",
   "version": "3.11.6"
  }
 },
 "nbformat": 4,
 "nbformat_minor": 5
}
